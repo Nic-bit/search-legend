{
 "cells": [
  {
   "cell_type": "markdown",
   "id": "a378c751",
   "metadata": {},
   "source": [
    "# query suggestion"
   ]
  },
  {
   "cell_type": "markdown",
   "id": "16b3b454",
   "metadata": {},
   "source": [
    "## 产品形态"
   ]
  },
  {
   "cell_type": "markdown",
   "id": "c12ee5a8",
   "metadata": {},
   "source": [
    "<img src=\"img/csug.png\" width = \"800\" height = \"600\" alt=\"中文提示词\" align=left />\n",
    "\n",
    "<img src=\"img/csug_pinyin.png\" width = \"800\" height = \"600\" alt=\"拼音提示词\" align=right />"
   ]
  },
  {
   "cell_type": "markdown",
   "id": "8b73f84b",
   "metadata": {},
   "source": [
    "中文的搜索提示通常有两种形式，一种是全中文的提示，另外一种是拼音的提示如上图2.以输入`图`为例，在输入后，下方的提示框回列出10个候选项，工用户选择，当然作为一名技术人员，我对图片，特别美女图片可能没那么大兴趣，我意图是搜索一下“图计算”的资料，那么这个提示词的结果对我而言就不是很友好的结果，但是这并不能作为一个评估标准，判定google的sug结果不好，如果我是对图片比较感兴趣，那这个提示就是很好，在第二，第三位，很精准的提示了我的意图，无论是那种情况，就以本次使用的情况作为判断，这个判断就是很主观的结论。那问题来了，他从哪里来，他到哪里去呢。\n",
    "也就是：\n",
    "* 提示词的来源是哪里\n",
    "* 提示词结果如何评估\n",
    "下面依次展开讨论"
   ]
  },
  {
   "cell_type": "markdown",
   "id": "2eee49c3",
   "metadata": {},
   "source": [
    "## 搜索提示"
   ]
  },
  {
   "cell_type": "markdown",
   "id": "15ff6734",
   "metadata": {},
   "source": [
    "query suggestion，也就是我们常见的下拉提示框，也有另外一种称为“联想词“，整体范畴是搜索的范畴。也是推荐的一种，在公司内，在nlp或者推荐团队。本质上， sug业务是根据用户的当前输入，自动提供若干query供用户选择。"
   ]
  },
  {
   "cell_type": "markdown",
   "id": "603f8b32",
   "metadata": {},
   "source": [
    "\n",
    "这些query的来源大多是query log中挖掘出来大量的候选query，另一部是生成式query，在冷启动、关联域挖掘等场景应用。无论是挖掘的用户query还是引导的生成query，检索时，都要求前缀相同（在数据不足时也可能是语义相同，中缀，后缀相同等情况）。通常情况下，依次检索会产生大量的query候选，如何筛选这些query？我们还需要一个排序规则，对成百上千的query进行排序，最终返回给用户一个top10的列表。"
   ]
  },
  {
   "cell_type": "markdown",
   "id": "70ff920b",
   "metadata": {},
   "source": [
    "## sug的作用"
   ]
  },
  {
   "cell_type": "markdown",
   "id": "71bbafd4",
   "metadata": {},
   "source": [
    "在开始具体的技术之前，我们先要搞清楚为什么做sug。从宏观角度，做sug是为了搜索导流，为了让这个宏观的目标能够以正确的姿势落地，进一步细化sug系统的作用：\n",
    "\n",
    "* 明确用户搜索意图 当用户输入一个，有可能不是一个标准的提问，通过query sug提示，能够帮助用户用正确的方式提问，避免用户输入的query是长尾的query，进而带来召回不足、排序过低等情况。\n",
    "\n",
    "* 提升产品体验，方便用户输入query对 某些用户来说，如果候选的query供用户选择，能够大大降低用户的输入成本。\n",
    "* 提搞搜索的精度 在query sug中的query，通常理解上时我们的热门query和精品内容。可以保证召回，相关性，时效性等。如果这些query中出现召回不足，或者无自然结果的情况，技术、运营层面需要做更多的工作。 \n",
    "* 缩短搜索总时长\n",
    "* 提升用户体验"
   ]
  },
  {
   "cell_type": "markdown",
   "id": "7359a260",
   "metadata": {},
   "source": [
    "## 技术需求"
   ]
  },
  {
   "cell_type": "markdown",
   "id": "e3613abd",
   "metadata": {},
   "source": [
    "### 低延迟"
   ]
  },
  {
   "cell_type": "markdown",
   "id": "4939b7a7",
   "metadata": {},
   "source": []
  },
  {
   "cell_type": "markdown",
   "id": "dbd12b78",
   "metadata": {},
   "source": [
    "### 高吞吐"
   ]
  },
  {
   "cell_type": "markdown",
   "id": "bcc38ef7",
   "metadata": {},
   "source": [
    "a"
   ]
  },
  {
   "cell_type": "markdown",
   "id": "3b1be6d1",
   "metadata": {},
   "source": [
    "## 技术策略"
   ]
  },
  {
   "cell_type": "markdown",
   "id": "cf633d20",
   "metadata": {},
   "source": [
    "通常情况下，有下面几种策略"
   ]
  },
  {
   "cell_type": "markdown",
   "id": "1f48fe1c",
   "metadata": {},
   "source": [
    "### 基于全量日志"
   ]
  },
  {
   "cell_type": "markdown",
   "id": "3852165c",
   "metadata": {},
   "source": []
  },
  {
   "cell_type": "markdown",
   "id": "46f00592",
   "metadata": {},
   "source": [
    "### 基于时间敏感的自动补全"
   ]
  },
  {
   "cell_type": "markdown",
   "id": "5bfe49fa",
   "metadata": {},
   "source": []
  },
  {
   "cell_type": "markdown",
   "id": "c3bba658",
   "metadata": {},
   "source": [
    "### 基于上下文的自动补全"
   ]
  },
  {
   "cell_type": "markdown",
   "id": "b77d4c12",
   "metadata": {},
   "source": []
  },
  {
   "cell_type": "markdown",
   "id": "5027defc",
   "metadata": {},
   "source": [
    "### 基于用户信息的自动补全"
   ]
  },
  {
   "cell_type": "code",
   "execution_count": null,
   "id": "a7832325",
   "metadata": {},
   "outputs": [],
   "source": []
  }
 ],
 "metadata": {
  "kernelspec": {
   "display_name": "Python 3 (ipykernel)",
   "language": "python",
   "name": "python3"
  },
  "language_info": {
   "codemirror_mode": {
    "name": "ipython",
    "version": 3
   },
   "file_extension": ".py",
   "mimetype": "text/x-python",
   "name": "python",
   "nbconvert_exporter": "python",
   "pygments_lexer": "ipython3",
   "version": "3.8.16"
  }
 },
 "nbformat": 4,
 "nbformat_minor": 5
}
