{
 "cells": [
  {
   "cell_type": "markdown",
   "id": "a378c751",
   "metadata": {},
   "source": [
    "# query suggestion"
   ]
  },
  {
   "cell_type": "markdown",
   "id": "dcfdb915",
   "metadata": {},
   "source": [
    "## 产品形态"
   ]
  },
  {
   "cell_type": "markdown",
   "id": "b44a1868",
   "metadata": {},
   "source": [
    "<img src=\"img/csug.png\" width = \"800\" height = \"600\" alt=\"中文提示词\" align=left />\n",
    "\n",
    "<img src=\"img/csug_pinyin.png\" width = \"800\" height = \"600\" alt=\"拼音提示词\" align=right />"
   ]
  },
  {
   "cell_type": "markdown",
   "id": "db037a99",
   "metadata": {},
   "source": [
    "中文的搜索提示通常有两种形式，一种是全中文的提示，另外一种是拼音的提示如上图2.以输入`图`为例，在输入后，下方的提示框回列出10个候选项，工用户选择，当然作为一名技术人员，我对图片，特别美女图片可能没那么大兴趣，我意图是搜索一下“图计算”的资料，那么这个提示词的结果对我而言就不是很友好的结果，但是这并不能作为一个评估标准，判定google的sug结果不好，如果我是对图片比较感兴趣，那这个提示就是很好，在第二，第三位，很精准的提示了我的意图，无论是那种情况，就以本次使用的情况作为判断，这个判断就是很主观的结论。那问题来了，他从哪里来，他到哪里去呢。\n",
    "也就是：\n",
    "* 提示词的来源是哪里\n",
    "* 提示词结果如何评估\n",
    "下面依次展开讨论"
   ]
  },
  {
   "cell_type": "markdown",
   "id": "a6741a4c",
   "metadata": {},
   "source": [
    "## 搜索提示"
   ]
  },
  {
   "cell_type": "markdown",
   "id": "6ed0fd09",
   "metadata": {},
   "source": [
    "query suggestion，也就是我们常见的下拉提示框，也有另外一种称为“联想词“，整体范畴是搜索的范畴。也是推荐的一种，在公司内，在nlp或者推荐团队。本质上， sug业务是根据用户的当前输入，自动提供若干query供用户选择。\n",
    "\n",
    "在学术上，他有另外一个名字 QAC -- query autocompletion"
   ]
  },
  {
   "cell_type": "markdown",
   "id": "b278bd60",
   "metadata": {},
   "source": [
    "\n",
    "这些query的来源大多是query log中挖掘出来大量的候选query，另一部是生成式query，在冷启动、关联域挖掘等场景应用。无论是挖掘的用户query还是引导的生成query，检索时，都要求前缀相同（在数据不足时也可能是语义相同，中缀，后缀相同等情况）。通常情况下，依次检索会产生大量的query候选，如何筛选这些query？我们还需要一个排序规则，对成百上千的query进行排序，最终返回给用户一个top10的列表。"
   ]
  },
  {
   "cell_type": "markdown",
   "id": "b06e25cc",
   "metadata": {},
   "source": [
    "## sug的作用"
   ]
  },
  {
   "cell_type": "markdown",
   "id": "3ed81316",
   "metadata": {},
   "source": [
    "在开始具体的技术之前，我们先要搞清楚为什么做sug。从宏观角度，做sug是为了搜索导流，为了让这个宏观的目标能够以正确的姿势落地，进一步细化sug系统的作用：\n",
    "\n",
    "* 明确用户搜索意图 当用户输入一个，有可能不是一个标准的提问，通过query sug提示，能够帮助用户用正确的方式提问，避免用户输入的query是长尾的query，进而带来召回不足、排序过低等情况。\n",
    "\n",
    "* 提升产品体验，方便用户输入query对 某些用户来说，如果候选的query供用户选择，能够大大降低用户的输入成本。\n",
    "* 提搞搜索的精度 在query sug中的query，通常理解上时我们的热门query和精品内容。可以保证召回，相关性，时效性等。如果这些query中出现召回不足，或者无自然结果的情况，技术、运营层面需要做更多的工作。 \n",
    "* 缩短搜索总时长\n",
    "* 提升用户体验"
   ]
  },
  {
   "cell_type": "markdown",
   "id": "e3796c39",
   "metadata": {},
   "source": [
    "## 技术需求"
   ]
  },
  {
   "cell_type": "markdown",
   "id": "87deba73",
   "metadata": {},
   "source": [
    "### 低延迟"
   ]
  },
  {
   "cell_type": "markdown",
   "id": "18fda613",
   "metadata": {},
   "source": [
    "通常搜索系统的整体延迟控制在1s之内，基本可以满足用户的要求，但实际上，sug是一个特殊的场景，对性能的要求有特别的要求。\n",
    "用户在输入一个字之后，前端检测到用户已经输入，就需要向后台请求sug列表，前端渲染展示的时间，要在用户输入下一个字的时间内展示出来，如果展示出来的时间过长，用户就体验就回收很大的影响。通常，sug的要求在20-100ms的区间内返回结果。这其中，不仅仅是工程需要部署相应的IDC解决全国用户访问因为网络链路带来的延迟，在算法选择上，也要保障是轻量级排序、召回、rerank机制。"
   ]
  },
  {
   "cell_type": "markdown",
   "id": "8303ced8",
   "metadata": {},
   "source": [
    "### 高吞吐"
   ]
  },
  {
   "cell_type": "markdown",
   "id": "53366fb2",
   "metadata": {},
   "source": [
    "在保证低延迟、低响应时间的同时，sug业务还要满足高QPS的业务要求。多机房，负载均衡、限流等策略在后面的工程方向解决方案中阐述。"
   ]
  },
  {
   "cell_type": "markdown",
   "id": "6bc6ad6b",
   "metadata": {},
   "source": [
    "## 技术策略"
   ]
  },
  {
   "cell_type": "markdown",
   "id": "f37ef24e",
   "metadata": {},
   "source": [
    "通常情况下，有下面几种策略，在实际业务中，通常是下面几种方式综合使用。"
   ]
  },
  {
   "cell_type": "markdown",
   "id": "8e974e8c",
   "metadata": {},
   "source": [
    "### 基于全量日志"
   ]
  },
  {
   "cell_type": "markdown",
   "id": "8066fc56",
   "metadata": {},
   "source": [
    "这种方式是将全部用户的全部检索query，按照预定的几个目标进行融合排序。比如在视频搜索的场景，按照query的pv，ctr，播放时长做融合公式：\n",
    "\n",
    "$score(q)=\\alpha\\times pv + \\beta \\times ctr + \\gamma \\times playtime \\tag{1}$ \n",
    "\n",
    "将上述feature输入到模型中，拟合出最终得分。依据得分进行排序。"
   ]
  },
  {
   "cell_type": "markdown",
   "id": "b22b65d8",
   "metadata": {},
   "source": [
    "### 基于上下文的自动补全"
   ]
  },
  {
   "cell_type": "markdown",
   "id": "6f5d6347",
   "metadata": {},
   "source": [
    "依赖search session。这里有一个假设，假设用户同一个session的多次搜索，是相关的。将同一个session中的query映射到同一个空间，计算初始query之间的相似度，分数越高的query，越能表征用户的意图，比如搜索篮球鞋，耐克篮球鞋，阿迪篮球等，都有较高的相关性。"
   ]
  },
  {
   "cell_type": "markdown",
   "id": "08a664ca",
   "metadata": {},
   "source": [
    "### 基于用户信息的自动补全"
   ]
  },
  {
   "cell_type": "markdown",
   "id": "8b21de20",
   "metadata": {},
   "source": [
    "通过识别用户的行为，集合推荐的用户profile，识别用的意图，对用户的行为进行建模，进而补全。"
   ]
  },
  {
   "cell_type": "markdown",
   "id": "1eff6fdd",
   "metadata": {},
   "source": [
    "### 选型比较"
   ]
  },
  {
   "cell_type": "markdown",
   "id": "35ed3d8e",
   "metadata": {},
   "source": [
    "| |基于日志补全|基于用户信息补全|基于上下文补全|\n",
    "|----|----|----|----|\n",
    "|优势|简单|精准|精准|\n",
    "|劣势|长尾无解|相关性低|新兴趣发现困难|\n",
    "|要求|query频率不变|query之间有相关性|query查询要有兴趣|"
   ]
  },
  {
   "cell_type": "markdown",
   "id": "09c17261",
   "metadata": {},
   "source": [
    "上表展示了各种补全方式的优势和劣势，在实际应用中，根据具体业务的特点，需要做一些tradeoff，当然可以在最外层用lr模型，让模型自己去帮我做做出选择。"
   ]
  },
  {
   "cell_type": "markdown",
   "id": "da4a0be8",
   "metadata": {},
   "source": [
    "## 技术方案"
   ]
  },
  {
   "cell_type": "markdown",
   "id": "78d770e0",
   "metadata": {},
   "source": [
    "前面巴拉巴拉一堆，那要怎么做呢，才能实现一套80分的系统呢。我们先梳理下系统的组件和模型"
   ]
  },
  {
   "cell_type": "markdown",
   "id": "d69a56b7",
   "metadata": {},
   "source": [
    "### 模块"
   ]
  },
  {
   "cell_type": "markdown",
   "id": "bcb8ef2b",
   "metadata": {},
   "source": [
    "* 离线挖掘\n",
    "* 召回\n",
    "* 排序\n",
    "* 规则排序\n",
    "* 业务重排\n",
    "* 业务过滤"
   ]
  },
  {
   "cell_type": "markdown",
   "id": "d67c6655",
   "metadata": {},
   "source": [
    "### 离线挖掘"
   ]
  },
  {
   "cell_type": "markdown",
   "id": "fced8058",
   "metadata": {},
   "source": [
    "搜索日志挖掘是最常用的一种方式，有批量和实时日志挖掘两种，批量日志挖掘的情况下，通常日志更新级别是天级别更新，实时日志是分钟级别的更新。在不同的业务场景下，有不同的需求，如资讯类，对新热点的sug要求较高，当然这背后有一些列的需求，热点发现，热点事件出发等。在不同的场景下要做不同的tradeoff。"
   ]
  },
  {
   "cell_type": "markdown",
   "id": "03608965",
   "metadata": {},
   "source": [
    "#### query生成"
   ]
  },
  {
   "cell_type": "markdown",
   "id": "967c0423",
   "metadata": {},
   "source": [
    "业务上有大量新内容进入到系统，在没有用户的搜索日志，点击记录之前，会有冷启动的问题。在sug这个场景下，通过预生成query帮助系统进行倒流，从而解决冷启动问题。有几种方法可以实现这个功能。"
   ]
  },
  {
   "cell_type": "markdown",
   "id": "3e2da2fb",
   "metadata": {},
   "source": [
    "##### 常规拼接以及文章关键字提取"
   ]
  },
  {
   "cell_type": "markdown",
   "id": "4cac50c4",
   "metadata": {},
   "source": [
    "第一种方式比较常规，将doc的title，author，提取文章关键词，将这些内容拼接起来，作为生成query列表\n",
    "如一片文章是关于库里的，标题是“评价库里历史地位”文章类别是体育，球队域是勇士，文章主题提取为 三分 夺冠，可以拼接为：\n",
    "```text\n",
    "库里历史地位\n",
    "勇士库里\n",
    "库里冠军\n",
    "库里三分球\n",
    "```\n",
    "等等\n",
    "这种方式好处是实现容易，缺点是主题不够明确，精准度欠缺。"
   ]
  },
  {
   "cell_type": "markdown",
   "id": "f777e7a4",
   "metadata": {},
   "source": [
    "##### 生成算法"
   ]
  },
  {
   "cell_type": "markdown",
   "id": "ebaebf25",
   "metadata": {},
   "source": [
    "生成模型利用的是seq2seq的算法，比如机器翻译利用encoder/decoder架构，生成query，那么此处也是同理，可以利用模型，控制decoder输出，\n",
    "来生成query，在比如bert模型。"
   ]
  },
  {
   "cell_type": "code",
   "execution_count": null,
   "id": "f48417d3",
   "metadata": {},
   "outputs": [],
   "source": []
  },
  {
   "cell_type": "markdown",
   "id": "baf4a066",
   "metadata": {},
   "source": [
    "无论使用上述哪种生成算法，都会带来几个问题，第一个是工程上的难点，每篇doc都会生成若干query，在召回引擎因某种原因要在线删除doc时，都会带来，单doc多记录问题，在性能要求较高的系统，需要做好权衡，高内存高性能还是低内存低性能。"
   ]
  },
  {
   "cell_type": "markdown",
   "id": "7d2fb14d",
   "metadata": {},
   "source": [
    "### 召回"
   ]
  },
  {
   "cell_type": "markdown",
   "id": "7e19411c",
   "metadata": {},
   "source": [
    "* 前缀召回 前缀召回在搜索领域内使用比较普遍，通常是用trie树完成这项功能\n",
    "* term 召回 term召回是根据query，建立倒排索引。\n",
    "* 向量化召回 向量召回早先试用kd完成，近年，向量召回有了长足的发展，从knn发展到ann，延迟从几十ms降低到5ms以内，项目可参见[tann](https://github.com/gottingen/titan-ann)，技术细节参阅[向量引擎](../vector_recall/index.ipynb)\n",
    "* 基于图召回 本质上时基于query的随机游走，但本次系统不实现该功能\n",
    "\n",
    "前缀召回、term召回以及向量召回，lambda引擎中，经过精心设计，巧妙聚合到一个引擎当中，细节在lambda引擎设计部分展开讨论"
   ]
  },
  {
   "cell_type": "markdown",
   "id": "0a983320",
   "metadata": {},
   "source": [
    "### 排序"
   ]
  },
  {
   "cell_type": "markdown",
   "id": "49381ec4",
   "metadata": {},
   "source": [
    "#### 粗排"
   ]
  },
  {
   "cell_type": "markdown",
   "id": "2a2c1360",
   "metadata": {},
   "source": [
    "精排是比较复杂的排序模型，在精排之前，粗排将不靠谱的doc先过滤掉，从性能的角度考虑，通常经过静态分数，主要是是先验的指标，如pv ctr，bm25等。\n",
    "\n",
    "//TODO 细节完善"
   ]
  },
  {
   "cell_type": "markdown",
   "id": "c549d2c7",
   "metadata": {},
   "source": [
    "#### 精排"
   ]
  },
  {
   "cell_type": "markdown",
   "id": "7d34543c",
   "metadata": {},
   "source": [
    "常用的FFM或者是DeepFm的流式模型，与推荐模型类似\n",
    "同时，与推荐模型也有很大区别，出性能的考虑，模型不能做大。\n",
    "第二个是长尾问题，从全局角度统计，点击率会比较高，因此在做模型时，要经过一定的平滑，如L2正则化\n",
    "在一个问题是问题是样本的选择，即使推送的query与用户的输入相同，用户可能选择自己输入。那么在做模型时，样本的选择至关重要。通常在训练时区掉\n",
    "id类型的特征，增加单字的特征，再一个，进行适度的deropout，保证模型的泛华能力。\n",
    "\n",
    "TODD 细节完善"
   ]
  },
  {
   "cell_type": "markdown",
   "id": "4e7b190a",
   "metadata": {},
   "source": [
    "### 规则排序"
   ]
  },
  {
   "cell_type": "markdown",
   "id": "45f8c053",
   "metadata": {},
   "source": [
    "精排（模型排序）不能解决全部的问题，如运营需求，中文置顶，搜索历史置顶等需求，rerank并没有太多技术细节，主要是产品的策略和常规的规则"
   ]
  },
  {
   "cell_type": "markdown",
   "id": "31f31c80",
   "metadata": {},
   "source": [
    "### 业务重排"
   ]
  },
  {
   "cell_type": "markdown",
   "id": "3ea59d88",
   "metadata": {},
   "source": [
    "### 评估"
   ]
  },
  {
   "cell_type": "markdown",
   "id": "77a5f03f",
   "metadata": {},
   "source": [
    "* 客观指标\n",
    "    * 使用率\n",
    "    * 点击量\n",
    "    * 前三点击率\n",
    "    * 用户输入长度\n",
    "    * 等等\n",
    "* 人工指标 偏体验\n",
    "    * 内容\n",
    "        * 质量-- 优质query占比\n",
    "        * 安全 -- 合规、非色情等\n",
    "        * 相关性 相关的比例\n",
    "    * 评估方式\n",
    "        * 竞品\n",
    "        * top query先验"
   ]
  }
 ],
 "metadata": {
  "kernelspec": {
   "display_name": "Python 3 (ipykernel)",
   "language": "python",
   "name": "python3"
  },
  "language_info": {
   "codemirror_mode": {
    "name": "ipython",
    "version": 3
   },
   "file_extension": ".py",
   "mimetype": "text/x-python",
   "name": "python",
   "nbconvert_exporter": "python",
   "pygments_lexer": "ipython3",
   "version": "3.8.16"
  }
 },
 "nbformat": 4,
 "nbformat_minor": 5
}
