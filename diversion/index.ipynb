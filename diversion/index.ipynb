{
 "cells": [
  {
   "cell_type": "markdown",
   "id": "2c42d503",
   "metadata": {},
   "source": [
    "# 搜索导流"
   ]
  },
  {
   "cell_type": "markdown",
   "id": "2a95e519",
   "metadata": {},
   "source": [
    "从体验角度，用户在使用搜索时，能够`快速`搜到他感兴趣的内容。让用户更多的使用搜索的功能，当然这里有多个指标来衡量，如`dau`,`次日留存`等等指标。"
   ]
  },
  {
   "cell_type": "markdown",
   "id": "df7611c8",
   "metadata": {},
   "source": [
    "从业务角度，搜索的导流是培养用户的使用习惯，搜索，通常不会作为单独的app存在，通常是嵌入到某个app中，作为app一项重要功能。随着dau的增长，用户使用习惯的建立，在使用app时，能够不由自主的想到使用搜索作为入口，来使用app。"
   ]
  },
  {
   "cell_type": "markdown",
   "id": "f53a10ee",
   "metadata": {},
   "source": [
    "## 导流方式"
   ]
  },
  {
   "cell_type": "markdown",
   "id": "a92c7111",
   "metadata": {},
   "source": [
    "* [知识图谱]()\n",
    "* [提示词](sug.ipynb)\n",
    "* [相关搜索](rel_search.ipynb)\n",
    "* [关键词导流](key_word.ipynb)\n",
    "* [弹出提示]"
   ]
  }
 ],
 "metadata": {
  "kernelspec": {
   "display_name": "Python 3 (ipykernel)",
   "language": "python",
   "name": "python3"
  },
  "language_info": {
   "codemirror_mode": {
    "name": "ipython",
    "version": 3
   },
   "file_extension": ".py",
   "mimetype": "text/x-python",
   "name": "python",
   "nbconvert_exporter": "python",
   "pygments_lexer": "ipython3",
   "version": "3.8.16"
  }
 },
 "nbformat": 4,
 "nbformat_minor": 5
}
