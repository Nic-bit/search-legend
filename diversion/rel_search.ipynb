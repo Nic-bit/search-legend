{
 "cells": [
  {
   "cell_type": "markdown",
   "id": "c18cdbb9",
   "metadata": {},
   "source": [
    "# 相关搜索"
   ]
  },
  {
   "cell_type": "markdown",
   "id": "4f54845f",
   "metadata": {},
   "source": [
    "## 产品形态"
   ]
  },
  {
   "cell_type": "markdown",
   "id": "cf46581f",
   "metadata": {},
   "source": [
    "![](img/crel.png)"
   ]
  },
  {
   "cell_type": "markdown",
   "id": "bbb5945f",
   "metadata": {},
   "source": [
    "上图是在google搜索中输入`博尔特`，在网页的底部会出现相关搜索。不同的业务有不同的叫法如猜你想搜，猜你喜欢，如百度叫“大家都在搜”等。"
   ]
  },
  {
   "cell_type": "markdown",
   "id": "13912917",
   "metadata": {},
   "source": [
    "## 产品作用"
   ]
  },
  {
   "cell_type": "markdown",
   "id": "a74a14d5",
   "metadata": {},
   "source": [
    "相关搜索的业务形式是在第一次搜索之后，推荐用户进行第二次搜索，逐步递进的精确用户的搜索意图，激发用户的兴趣，引导用户的搜索习惯。"
   ]
  },
  {
   "cell_type": "markdown",
   "id": "3ecd2bfe",
   "metadata": {},
   "source": [
    "* 更精确的找到结果\n",
    "* 扩展搜索的内容，找到更多的内容\n",
    "* 提升停留时间，提升pv"
   ]
  }
 ],
 "metadata": {
  "kernelspec": {
   "display_name": "Python 3 (ipykernel)",
   "language": "python",
   "name": "python3"
  },
  "language_info": {
   "codemirror_mode": {
    "name": "ipython",
    "version": 3
   },
   "file_extension": ".py",
   "mimetype": "text/x-python",
   "name": "python",
   "nbconvert_exporter": "python",
   "pygments_lexer": "ipython3",
   "version": "3.8.16"
  }
 },
 "nbformat": 4,
 "nbformat_minor": 5
}
