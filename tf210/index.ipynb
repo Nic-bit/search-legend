{
 "cells": [
  {
   "cell_type": "markdown",
   "id": "d031a388",
   "metadata": {},
   "source": [
    "# tensorflow 源码阅读"
   ]
  },
  {
   "cell_type": "markdown",
   "id": "5abf2be0",
   "metadata": {},
   "source": [
    "基于tensorflow v2.10.0"
   ]
  },
  {
   "cell_type": "markdown",
   "id": "75ea6765",
   "metadata": {},
   "source": [
    "## 架构"
   ]
  },
  {
   "cell_type": "markdown",
   "id": "511678d8",
   "metadata": {},
   "source": [
    "TensorFlow 模块化和分层设计十分精良，具体模块和层层如下："
   ]
  },
  {
   "cell_type": "markdown",
   "id": "fef0fde3",
   "metadata": {},
   "source": [
    "![](img/tf.png)"
   ]
  },
  {
   "cell_type": "markdown",
   "id": "095c9ba1",
   "metadata": {},
   "source": [
    "整个框架以C API为界，分为前端和后端两大部分。\n",
    "* 前端：提供编程模型，多语言的接口支持，比如Python Java C++等。通过C API建立前后端的连接，后面详细讲解。\n",
    "\n",
    "* 后端：提供运行环境，完成计算图的执行。进一步分为4层   \n",
    "  * 运行时：分为分布式运行时和本地运行时，负责计算图的接收，构造，编排等。\n",
    "  * 计算层：提供各op算子的内核实现，例如conv2d, relu等\n",
    "  * 通信层：实现组件间数据通信，基于GRPC和RDMA两种通信方式\n",
    "  * 设备层：提供多种异构设备的支持，如CPU GPU TPU FPGA等"
   ]
  },
  {
   "cell_type": "markdown",
   "id": "40080aab",
   "metadata": {},
   "source": [
    "## 源码目录"
   ]
  },
  {
   "cell_type": "markdown",
   "id": "daf7e39d",
   "metadata": {},
   "source": [
    "| 目录 | 功能 |\n",
    "| :----: | :----: |\n",
    "| tensorflow/c | C API代码 |\n",
    "| tensorflow/cc | C++ API代码 |\n",
    "| tensorflow/compiler | XLA,JIT等编译优化相关 |\n",
    "| tensorflow/core | tf核心代码|\n",
    "| tensorflow/examples | 例子相关代码 |\n",
    "| tensorflow/go | go API相关代码 |\n",
    "| tensorflow/java | java API相关代码 |\n",
    "| tensorflow/python | Python API相关代码 |\n",
    "| tensorflow/stream_executor | 并行计算框架代码 |\n",
    "| tensorflow/tools | 各种辅助工具工程代码，例如第二章中生成Python安装包的代码就在这里 |\n",
    "| tensorflow/user_ops | tf插件代码 |\n",
    "| third_party/ | 依赖的第三方代码 |\n",
    "| tools | 工程编译配置相关| \n",
    "| tensorflow/docs_src | 文档相关文件 |"
   ]
  },
  {
   "cell_type": "markdown",
   "id": "6064253a",
   "metadata": {},
   "source": [
    "## tensorflow/core"
   ]
  },
  {
   "cell_type": "markdown",
   "id": "64a90118",
   "metadata": {},
   "source": [
    "| 目录 | 功能 |\n",
    "| :----: | :----: |\n",
    "|tensorflow/core/common_runtime| 公共运行库|\n",
    "| tensorflow/core/debug | 调试相关 |\n",
    "| tensorflow/core/distributed_runtime| 分布式运行模块|\n",
    "| tensorflow/core/example | 例子代码 |\n",
    "| tensorflow/core/framework | 基础功能模块 |\n",
    "| tensorflow/core/graph | 计算图相关 |\n",
    "| tensorflow/core/grappler | 模型优化模块 |\n",
    "| tensorflow/core/kernels | 操作核心的实现代码，包括CPU和GPU上的实现|\n",
    "| tensorflow/core/lib | 公共基础库|\n",
    "| tensorflow/core/ops | 操作代码 |\n",
    "| tensorflow/core/platform | 平台实现相关代码 |\n",
    "| tensorflow/core/protobuf | .proto定义文件 |\n",
    "| tensorflow/core/public | API头文件|"
   ]
  },
  {
   "cell_type": "markdown",
   "id": "be85eb1f",
   "metadata": {},
   "source": [
    "##  tensorflow/framwork"
   ]
  },
  {
   "cell_type": "markdown",
   "id": "a2d4d8fd",
   "metadata": {},
   "source": [
    "* [tensor--张量](tf_reading/tensor.md)\n",
    "* [内存分配器](tf_reading/allocat)"
   ]
  },
  {
   "cell_type": "markdown",
   "id": "e57b2c49",
   "metadata": {},
   "source": [
    "## 外部资料"
   ]
  },
  {
   "cell_type": "markdown",
   "id": "1a3cc6d3",
   "metadata": {},
   "source": [
    "* [tensorflow白皮书](http://download.tensorflow.org/paper/whitepaper2015.pdf) [中文翻译](https://www.jianshu.com/p/65dc64e4c81f)\n",
    "* []()"
   ]
  }
 ],
 "metadata": {
  "kernelspec": {
   "display_name": "Python 3 (ipykernel)",
   "language": "python",
   "name": "python3"
  },
  "language_info": {
   "codemirror_mode": {
    "name": "ipython",
    "version": 3
   },
   "file_extension": ".py",
   "mimetype": "text/x-python",
   "name": "python",
   "nbconvert_exporter": "python",
   "pygments_lexer": "ipython3",
   "version": "3.8.16"
  }
 },
 "nbformat": 4,
 "nbformat_minor": 5
}
