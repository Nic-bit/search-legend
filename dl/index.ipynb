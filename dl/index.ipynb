{
 "cells": [
  {
   "cell_type": "markdown",
   "id": "ec4f642f",
   "metadata": {},
   "source": [
    "# Fundamentals of Deep Learning"
   ]
  },
  {
   "cell_type": "markdown",
   "id": "45364270",
   "metadata": {},
   "source": [
    "## 版权申明\n",
    "这部分大部分内容是从李牧大佬[动手学深度学习](https://zh-v2.d2l.ai/)中整理过来。"
   ]
  },
  {
   "cell_type": "markdown",
   "id": "a222fb6b",
   "metadata": {},
   "source": [
    "\n",
    "## 第一阶段目的\n",
    "使用深度学习的方法，\n",
    "1. 实现语义召回的DSSM模型 gru + attention && bert\n",
    "2. 使用bilstm + crf实现中文分词\n",
    "3. 使用bert + crf实现序列标注任务（NER）"
   ]
  },
  {
   "cell_type": "markdown",
   "id": "21d89053",
   "metadata": {},
   "source": [
    "## 内容"
   ]
  },
  {
   "cell_type": "markdown",
   "id": "0ff38c88",
   "metadata": {},
   "source": [
    "* [数学符号](math_index.ipynb)\n",
    "* [线性回归](linear/index.ipynb)"
   ]
  },
  {
   "cell_type": "markdown",
   "id": "b52a122e",
   "metadata": {},
   "source": [
    "[back](../README.md)"
   ]
  }
 ],
 "metadata": {
  "kernelspec": {
   "display_name": "Python 3 (ipykernel)",
   "language": "python",
   "name": "python3"
  },
  "language_info": {
   "codemirror_mode": {
    "name": "ipython",
    "version": 3
   },
   "file_extension": ".py",
   "mimetype": "text/x-python",
   "name": "python",
   "nbconvert_exporter": "python",
   "pygments_lexer": "ipython3",
   "version": "3.8.16"
  }
 },
 "nbformat": 4,
 "nbformat_minor": 5
}
