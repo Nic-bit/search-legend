{
 "cells": [
  {
   "cell_type": "markdown",
   "id": "4bfd158f",
   "metadata": {},
   "source": [
    "# Fundamentals of Deep Learning"
   ]
  },
  {
   "cell_type": "markdown",
   "id": "7bcd5f76",
   "metadata": {},
   "source": [
    "## 版权申明\n",
    "这部分部分内容是从李牧大佬[动手学深度学习](https://zh-v2.d2l.ai/)中整理过来。"
   ]
  },
  {
   "cell_type": "markdown",
   "id": "0ea598fe",
   "metadata": {},
   "source": [
    "\n",
    "## 第一阶段目的\n",
    "使用深度学习的方法，\n",
    "1. 实现语义召回的DSSM模型 gru + attention && bert\n",
    "2. 使用bilstm + crf实现中文分词\n",
    "3. 使用bert + crf实现序列标注任务（NER）"
   ]
  },
  {
   "cell_type": "markdown",
   "id": "2e623932",
   "metadata": {},
   "source": [
    "## 算法"
   ]
  },
  {
   "cell_type": "markdown",
   "id": "3c94d851",
   "metadata": {},
   "source": [
    "* [数学符号](math_index.ipynb)\n",
    "* [线性回归](linear/index.ipynb)\n",
    "* [感知机](multilayer_perceptrons/index.ipynb)\n",
    "* [深度学习计算](deep_learning_computation/index.ipynb)\n",
    "* [卷积神经网络](convolutional_neural_networks/index.ipynb)\n",
    "* [现代卷积神经网络](convolutional_modern/index.ipynb)\n",
    "* [循环神经网络](recurrent_neural_networks/index.ipynb)\n",
    "* [现代神经网络](recurrent_modern/index.ipynb)\n",
    "* [注意力机制](attention_mechanisms/index.ipynb)\n",
    "* [优化算法](optimization/index.ipynb)\n",
    "* [计算性能](computational_performance/index.ipynb)\n",
    "* [自然语言处理：预训练](natural_language_processing_pretraining/index.ipynb)\n",
    "* [自然语言处理：应用](natural_language_processing_applications/index.ipynb)"
   ]
  },
  {
   "cell_type": "markdown",
   "id": "e458d37a",
   "metadata": {},
   "source": [
    "## 工程概论"
   ]
  },
  {
   "cell_type": "markdown",
   "id": "247f4095",
   "metadata": {},
   "source": [
    "* [机器学习框架](framework/index.ipynb)\n",
    "* [计算图](graph/index.ipynb)\n",
    "* [ai编译器](compiler/index.ipynb) 待完成\n",
    "* [数据处理框架]() 待完成\n",
    "* [分布式训练]() 待完成\n",
    "* [模型部署]() 待完成"
   ]
  },
  {
   "cell_type": "markdown",
   "id": "c301b067",
   "metadata": {},
   "source": [
    "## 工程实践"
   ]
  },
  {
   "cell_type": "markdown",
   "id": "7eac9c2e",
   "metadata": {},
   "source": [
    "* [c++ && python]() 待完成\n",
    "* [tensorflow专题]() 待完成\n",
    "* [tensorflow serving部署]() 待完成\n",
    "* [triton 使用]() 待完成\n",
    "* [GPU编程]() 待完成\n",
    "* [IR专题]() 待完成"
   ]
  },
  {
   "cell_type": "markdown",
   "id": "ae9f4d48",
   "metadata": {},
   "source": [
    "## 扩展资料"
   ]
  },
  {
   "cell_type": "markdown",
   "id": "957a5c1e",
   "metadata": {},
   "source": [
    "* [扩展阅读](readings.ipynb)"
   ]
  },
  {
   "cell_type": "markdown",
   "id": "5c1dd4c4",
   "metadata": {},
   "source": [
    "[back](../README.md)"
   ]
  }
 ],
 "metadata": {
  "kernelspec": {
   "display_name": "Python 3 (ipykernel)",
   "language": "python",
   "name": "python3"
  },
  "language_info": {
   "codemirror_mode": {
    "name": "ipython",
    "version": 3
   },
   "file_extension": ".py",
   "mimetype": "text/x-python",
   "name": "python",
   "nbconvert_exporter": "python",
   "pygments_lexer": "ipython3",
   "version": "3.8.16"
  }
 },
 "nbformat": 4,
 "nbformat_minor": 5
}
