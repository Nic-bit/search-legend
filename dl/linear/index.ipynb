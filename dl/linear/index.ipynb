{
 "cells": [
  {
   "cell_type": "markdown",
   "id": "8349e886",
   "metadata": {},
   "source": [
    "线性神经网络\n",
    "===\n",
    "\n",
    "在正式进入以搜索为主的深度学习之前，结合最近的资料整理，先介绍神经网络的基础知识。从线性回归切入，演示神经网络的架构、数据处理，损失函数，优化函数，自动求导等过程。线性回归是神经网络的基础。如搜索推荐中排序常用的Deep  & Wide FM，就是从线性模型言表而来。\n",
    "\n",
    "* [线性回归](linear_regression.ipynb)\n",
    "* [实现](linear_regression_scratch.ipynb)\n",
    "* [pytorch实现](linear_regression_pytorch.ipynb)\n",
    "* [softmax回归](softmax-regression.ipynb)\n",
    "* [图片分类](image-classification-dataset.ipynb)\n",
    "* [softmax实现](softmax_regression_scratch.ipynb)\n",
    "* [softmax实现pytorch](softmax_regression_pytorch.ipynb)"
   ]
  },
  {
   "cell_type": "code",
   "execution_count": 3,
   "id": "aaa3cd80",
   "metadata": {},
   "outputs": [],
   "source": []
  },
  {
   "cell_type": "code",
   "execution_count": null,
   "id": "3ddfaaee",
   "metadata": {},
   "outputs": [],
   "source": []
  }
 ],
 "metadata": {
  "kernelspec": {
   "display_name": "Python 3 (ipykernel)",
   "language": "python",
   "name": "python3"
  },
  "language_info": {
   "codemirror_mode": {
    "name": "ipython",
    "version": 3
   },
   "file_extension": ".py",
   "mimetype": "text/x-python",
   "name": "python",
   "nbconvert_exporter": "python",
   "pygments_lexer": "ipython3",
   "version": "3.8.16"
  }
 },
 "nbformat": 4,
 "nbformat_minor": 5
}
