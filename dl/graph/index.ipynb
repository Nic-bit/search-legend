{
 "cells": [
  {
   "cell_type": "markdown",
   "id": "b32f2b59",
   "metadata": {},
   "source": [
    "# 计算图"
   ]
  },
  {
   "cell_type": "markdown",
   "id": "2e47f80c",
   "metadata": {},
   "source": [
    "机器学习系统如何高效地在硬件上执行这些程序呢？这一核心问题又能被进一步拆解为：如何对机器学习程序描述的模型调度执行？如何使得模型调度执行更加高效？如何自动计算更新模型所需的梯度？解决这些问题的关键是计算图（Computational Graph）技术。为了讲解这一技术，本章将详细讨论计算图的基本组成、自动生成和高效执行中所涉及的方法。"
   ]
  },
  {
   "cell_type": "markdown",
   "id": "c44be82d",
   "metadata": {},
   "source": [
    "* [计算图的设计背景和作用](background.ipynb)\n",
    "* [计算图的组件](components.ipynb)\n",
    "* [计算图生成](generation.ipynb)\n",
    "* [计算图调度](schedule.ipynb)"
   ]
  }
 ],
 "metadata": {
  "kernelspec": {
   "display_name": "Python 3 (ipykernel)",
   "language": "python",
   "name": "python3"
  },
  "language_info": {
   "codemirror_mode": {
    "name": "ipython",
    "version": 3
   },
   "file_extension": ".py",
   "mimetype": "text/x-python",
   "name": "python",
   "nbconvert_exporter": "python",
   "pygments_lexer": "ipython3",
   "version": "3.8.16"
  }
 },
 "nbformat": 4,
 "nbformat_minor": 5
}
