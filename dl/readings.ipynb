{
 "cells": [
  {
   "cell_type": "markdown",
   "id": "2d79963b",
   "metadata": {},
   "source": [
    "# 扩展阅读"
   ]
  },
  {
   "cell_type": "markdown",
   "id": "d9b6abb2",
   "metadata": {},
   "source": [
    "* [TensorFlow 设计白皮书](https://arxiv.org/abs/1603.04467)\n",
    "* [PyTorch计算框架设计论文](https://arxiv.org/abs/1912.01703)\n",
    "* [TensorFlow控制流](http://download.tensorflow.org/paper/white_paper_tf_control_flow_implementation_2017_11_1.pdf)\n",
    "* [TensorFlow Eager 论文](https://arxiv.org/pdf/1903.01855.pdf)\n",
    "* [TensorFlow Eager Execution](https://tensorflow.google.cn/guide/eager?hl=zh-cn)\n",
    "* [TensorFlow Graph](https://tensorflow.google.cn/guide/intro_to_graphs?hl=zh-cn)"
   ]
  }
 ],
 "metadata": {
  "kernelspec": {
   "display_name": "Python 3 (ipykernel)",
   "language": "python",
   "name": "python3"
  },
  "language_info": {
   "codemirror_mode": {
    "name": "ipython",
    "version": 3
   },
   "file_extension": ".py",
   "mimetype": "text/x-python",
   "name": "python",
   "nbconvert_exporter": "python",
   "pygments_lexer": "ipython3",
   "version": "3.8.16"
  }
 },
 "nbformat": 4,
 "nbformat_minor": 5
}
